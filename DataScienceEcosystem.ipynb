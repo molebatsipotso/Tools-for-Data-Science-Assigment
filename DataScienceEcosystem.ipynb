{
 "cells": [
  {
   "cell_type": "markdown",
   "id": "1dafa6de",
   "metadata": {},
   "source": [
    "### Exercise 2: Create markdown cell with title of the notebook"
   ]
  },
  {
   "cell_type": "markdown",
   "id": "44896c05",
   "metadata": {},
   "source": [
    "# Data Science Tools and Ecosystem"
   ]
  },
  {
   "cell_type": "markdown",
   "id": "bea7e0de",
   "metadata": {},
   "source": [
    "### Exercise 3 - Create a markdown cell for an introduction"
   ]
  },
  {
   "cell_type": "markdown",
   "id": "5ccfa2fc",
   "metadata": {},
   "source": [
    "In this notebook, Data Science Tools and Ecosystem are summarized."
   ]
  },
  {
   "cell_type": "markdown",
   "id": "bcbc5f71",
   "metadata": {},
   "source": [
    "**Objectives:**\n",
    "* In data science, communicating the results and collaborating with others is important. There are tasks and tools data scientist follows. Task such as\n",
    "    * data management\n",
    "    * data integration and transformation\n",
    "    * data visualization\n",
    "    * model building\n",
    "    * model deploymeny\n",
    "    * model monitoring and assessment\n",
    "    \n",
    "  You can perfom these tasks using several tools such as \n",
    "      * MySQl\n",
    "      * Apache AirFlow\n",
    "      * Pixie Dust\n",
    "      * Apache PredictionIO\n",
    "      * ModelDB\n",
    "      * Git\n",
    "      * SPSS Modeler\n",
    "      * etc. \n",
    "* There are several programming languages that can be used in data science each with different benefits: \n",
    "    * Python\n",
    "    * R\n",
    "    * SQL\n",
    "    * Java\n",
    "    * Scala\n",
    "    * C++\n",
    "    * Julia\n",
    "    \n",
    "* Libraries are important in these programming languages becasue they have built-in capabilities with different functinalities. \n",
    "\n",
    "* Jupyter Notebook, JupyterLab, JupyterLite, VS Code, and Google Colaboratory are the most used tools in data science for recording experiments and projects.\n",
    "* Git, GitHub, GitLab and Bitbucket are the most used version control systems in data science.\n"
   ]
  },
  {
   "cell_type": "markdown",
   "id": "49350a3f",
   "metadata": {},
   "source": [
    "### Exercise 4 - Create a markdown cell to list data science languages"
   ]
  },
  {
   "cell_type": "markdown",
   "id": "e2fd77bc",
   "metadata": {},
   "source": [
    "Some of the popular languages that Data Scientists use are:\n",
    "1. Python\n",
    "2. R\n",
    "3. SQL"
   ]
  },
  {
   "cell_type": "markdown",
   "id": "6c179538",
   "metadata": {},
   "source": [
    "### Exercise 5 - Create a markdown cell to list data science libraries"
   ]
  },
  {
   "cell_type": "markdown",
   "id": "3009d60b",
   "metadata": {},
   "source": [
    "Some of the commonly used libraries used by Data Scientists include:\n",
    "1. Pandas\n",
    "2. NumPy\n",
    "3. SciPy "
   ]
  },
  {
   "cell_type": "markdown",
   "id": "7003c499",
   "metadata": {},
   "source": [
    "### Exercise 6 - Create a markdown cell with a table of Data Science tools"
   ]
  },
  {
   "cell_type": "markdown",
   "id": "160d9cc7",
   "metadata": {},
   "source": [
    "| Data Science Tools |\n",
    "|:------------------ |\n",
    "| Jupyter |\n",
    "| Jupyter Lap |\n",
    "| RStudio |\n",
    "\n"
   ]
  },
  {
   "cell_type": "markdown",
   "id": "2131e9cd",
   "metadata": {},
   "source": [
    "### Exercise 7 - Create a markdown cell introducing arithmetic expression examples"
   ]
  },
  {
   "cell_type": "markdown",
   "id": "beb708a4",
   "metadata": {},
   "source": [
    "### Below are a few examples of evaluating arithmetic expressions in Python."
   ]
  },
  {
   "cell_type": "markdown",
   "id": "c063ef2e",
   "metadata": {},
   "source": [
    "### Exercise 8 - Create a code cell to multiply and add numbers"
   ]
  },
  {
   "cell_type": "code",
   "execution_count": 1,
   "id": "5824f2ff",
   "metadata": {},
   "outputs": [
    {
     "data": {
      "text/plain": [
       "17"
      ]
     },
     "execution_count": 1,
     "metadata": {},
     "output_type": "execute_result"
    }
   ],
   "source": [
    "# A basic arithmetic expression demostrating addition and multiplication\n",
    "(3*4)+5"
   ]
  },
  {
   "cell_type": "markdown",
   "id": "4ea17e6e",
   "metadata": {},
   "source": [
    "### Exercise 9 - Create a code cell to convert minutes to hours"
   ]
  },
  {
   "cell_type": "code",
   "execution_count": 2,
   "id": "7f0c75f2",
   "metadata": {},
   "outputs": [
    {
     "data": {
      "text/plain": [
       "3.3333333333333335"
      ]
     },
     "execution_count": 2,
     "metadata": {},
     "output_type": "execute_result"
    }
   ],
   "source": [
    "# Converting minutes into hours, using the formula: hours = minutes/60\n",
    "200/60"
   ]
  },
  {
   "cell_type": "markdown",
   "id": "20695aee",
   "metadata": {},
   "source": [
    "### Exercise 11 - Create a markdown cell to indicate the Author's name"
   ]
  },
  {
   "cell_type": "markdown",
   "id": "32573ae1",
   "metadata": {},
   "source": [
    "## Author\n",
    "Potso Molebatsi"
   ]
  },
  {
   "cell_type": "code",
   "execution_count": null,
   "id": "4e845f4c",
   "metadata": {},
   "outputs": [],
   "source": []
  }
 ],
 "metadata": {
  "kernelspec": {
   "display_name": "Python 3 (ipykernel)",
   "language": "python",
   "name": "python3"
  },
  "language_info": {
   "codemirror_mode": {
    "name": "ipython",
    "version": 3
   },
   "file_extension": ".py",
   "mimetype": "text/x-python",
   "name": "python",
   "nbconvert_exporter": "python",
   "pygments_lexer": "ipython3",
   "version": "3.9.12"
  }
 },
 "nbformat": 4,
 "nbformat_minor": 5
}
